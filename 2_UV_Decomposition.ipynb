{
 "cells": [
  {
   "cell_type": "code",
   "execution_count": 99,
   "id": "saved-james",
   "metadata": {},
   "outputs": [],
   "source": [
    "import pandas as pd\n",
    "import numpy as np\n",
    "import numpy.ma as ma\n",
    "from sklearn.model_selection import KFold"
   ]
  },
  {
   "cell_type": "markdown",
   "id": "descending-simpson",
   "metadata": {},
   "source": [
    "There are 6040(max user id) users and 3952(max movie id) Movies in our database\n",
    "\n",
    "Strategy\n",
    "<ol>\n",
    "    <li>Create a Utility Matrix(M) with the size of Users and Movies</li>\n",
    "    <li>Update M with the ratings from training dataset</li>\n",
    "    <li>Decide for d dimension (for U & V)</li>\n",
    "    <li>Implement the decomposition algorithm</li>\n",
    "    <li>Initialize U & V matrices</li>\n",
    "    <li>Train and find optimum U & V matrices</li>\n",
    "    <li>Evaluate on test set using RMSE values</li>\n",
    "</ol>"
   ]
  },
  {
   "cell_type": "markdown",
   "id": "progressive-family",
   "metadata": {},
   "source": [
    "<img src=\"./images/IMG_1387.jpeg\" style=\"width: 75%; height: auto;\">"
   ]
  },
  {
   "cell_type": "code",
   "execution_count": 27,
   "id": "electoral-tobacco",
   "metadata": {},
   "outputs": [],
   "source": [
    "# Reading the data\n",
    "user_col_names = [\"UserID\", \"Gender\", \"Age\", \"Occupation\", \"Zipcode\"]\n",
    "udf = pd.read_csv(\"ml-1m/users.dat\", sep=\"::\", header=None, names=user_col_names, engine=\"python\")\n",
    "\n",
    "movies_col_names = [\"MovieID\", \"Title\", \"Genres\"]\n",
    "mdf = pd.read_csv(\"ml-1m/movies.dat\", sep=\"::\", header=None, names=movies_col_names, engine=\"python\")\n",
    "\n",
    "ratings_col_names = [\"UserID\", \"MovieID\", \"Rating\", \"Timestamp\"]\n",
    "rdf = pd.read_csv(\"ml-1m/ratings.dat\", sep=\"::\", header=None, names=ratings_col_names, engine=\"python\")"
   ]
  },
  {
   "cell_type": "code",
   "execution_count": 28,
   "id": "hispanic-classroom",
   "metadata": {},
   "outputs": [
    {
     "name": "stdout",
     "output_type": "stream",
     "text": [
      "UserID: min = 1, max = 6040\n",
      "MovieID: min = 1, max = 3952\n"
     ]
    }
   ],
   "source": [
    "print(f\"UserID: min = {udf.UserID.min()}, max = {udf.UserID.max()}\")\n",
    "print(f\"MovieID: min = {mdf.MovieID.min()}, max = {mdf.MovieID.max()}\")"
   ]
  },
  {
   "cell_type": "code",
   "execution_count": 49,
   "id": "downtown-mixer",
   "metadata": {},
   "outputs": [
    {
     "data": {
      "text/plain": [
       "(6040, 3952)"
      ]
     },
     "execution_count": 49,
     "metadata": {},
     "output_type": "execute_result"
    }
   ],
   "source": [
    "# Step 1 : Create Utility Matrix (M)\n",
    "M = np.zeros((udf.UserID.max(), mdf.MovieID.max()))\n",
    "M.shape"
   ]
  },
  {
   "cell_type": "code",
   "execution_count": 22,
   "id": "decent-refrigerator",
   "metadata": {},
   "outputs": [],
   "source": [
    "# Dividing the data into 5 folds\n",
    "RandomState = 42\n",
    "\n",
    "kf = KFold(n_splits=5, shuffle=True, random_state=RandomState)\n",
    "Folds = []\n",
    "for train_index, test_index in kf.split(rdf):\n",
    "    Folds.append((rdf.iloc[train_index, :], rdf.iloc[test_index, :]))"
   ]
  },
  {
   "cell_type": "code",
   "execution_count": 50,
   "id": "sublime-radiation",
   "metadata": {},
   "outputs": [],
   "source": [
    "# Step 2 : Update M\n",
    "def update_M(m, df):\n",
    "    for index, row in df.iterrows():\n",
    "        m[row[\"UserID\"]-1, row[\"MovieID\"]-1] = row[\"Rating\"]\n",
    "    return m"
   ]
  },
  {
   "cell_type": "code",
   "execution_count": 32,
   "id": "published-inflation",
   "metadata": {},
   "outputs": [],
   "source": [
    "#for i, (train, test) in enumerate(Folds):\n",
    "#    break\n",
    "\n",
    "train, test = Folds[0]"
   ]
  },
  {
   "cell_type": "code",
   "execution_count": 51,
   "id": "positive-lighter",
   "metadata": {},
   "outputs": [
    {
     "name": "stdout",
     "output_type": "stream",
     "text": [
      "CPU times: user 51.8 s, sys: 130 ms, total: 51.9 s\n",
      "Wall time: 51.9 s\n"
     ]
    }
   ],
   "source": [
    "%%time\n",
    "M_updated = update_M(M, train)"
   ]
  },
  {
   "cell_type": "code",
   "execution_count": 52,
   "id": "inappropriate-bahamas",
   "metadata": {},
   "outputs": [
    {
     "data": {
      "text/plain": [
       "0.0"
      ]
     },
     "execution_count": 52,
     "metadata": {},
     "output_type": "execute_result"
    }
   ],
   "source": [
    "M_updated[123,123]"
   ]
  },
  {
   "cell_type": "code",
   "execution_count": 53,
   "id": "developed-wheat",
   "metadata": {},
   "outputs": [
    {
     "data": {
      "text/plain": [
       "True"
      ]
     },
     "execution_count": 53,
     "metadata": {},
     "output_type": "execute_result"
    }
   ],
   "source": [
    "M_updated[123,123] == 0"
   ]
  },
  {
   "cell_type": "code",
   "execution_count": 58,
   "id": "following-session",
   "metadata": {},
   "outputs": [
    {
     "data": {
      "text/plain": [
       "(array([   0,   47,  149,  259,  526,  530,  587,  593,  594,  660,  719,\n",
       "         744,  782,  913,  918,  937, 1021, 1027, 1028, 1096, 1196, 1206,\n",
       "        1269, 1286, 1544, 1565, 1720, 1906, 1960, 1961, 2027, 2293, 2339,\n",
       "        2354, 2686, 2761, 2790, 2796, 2917, 3113, 3407]),)"
      ]
     },
     "execution_count": 58,
     "metadata": {},
     "output_type": "execute_result"
    }
   ],
   "source": [
    "np.nonzero(M_updated[0, :])"
   ]
  },
  {
   "cell_type": "code",
   "execution_count": 224,
   "id": "amazing-inclusion",
   "metadata": {},
   "outputs": [],
   "source": [
    "# RMSE calculation\n",
    "def calc_rmse(M, U, V, root=True):\n",
    "    masked = ma.masked_array(M, mask=M==0)\n",
    "    P = np.dot(U, V)     \n",
    "    s = np.sum((masked-P)**2)\n",
    "    if not root:\n",
    "        return s\n",
    "    return np.sqrt(s/masked.count())\n",
    "\n",
    "def decompose_U(M, U, V):\n",
    "    n, d = U.shape\n",
    "    for r in range(n):\n",
    "        for s in range(d):\n",
    "            U[r,s]= Urs(M, U, V, r, s)\n",
    "    return U\n",
    "\n",
    "def Urs(M, U, V, r, s):\n",
    "    M_slice = ma.masked_array(M, mask=M==0)[r, :]\n",
    "    V_slice = ma.masked_array(V[s, :], M_slice.mask)\n",
    "    sum_array=np.matmul(U[r,:],V[:])-(U[r,s]*V[s,:])\n",
    "    numerator = np.sum(V[s,:]*(M_slice-sum_array))\n",
    "    denominator = np.sum(np.square(V_slice))\n",
    "    return numerator/denominator\n",
    "\n",
    "\n",
    "def decompose_V(M, U, V):\n",
    "    d, m = V.shape\n",
    "    for s in range(m):\n",
    "        for r in range(d):\n",
    "            V[r,s]= Vrs(M, U, V, r, s)\n",
    "    return V\n",
    "\n",
    "def Vrs(M, U, V, r, s):\n",
    "    M_slice = ma.masked_array(M, mask=M==0)[:, s]\n",
    "    U_slice = ma.masked_array(U[:, r], M_slice.mask)\n",
    "    sum_array=np.matmul(U[:],V[:, s])-(V[r,s]*U[:, r])\n",
    "    numerator = np.sum(U[:, r]*(M_slice-sum_array))\n",
    "    denominator = np.sum(np.square(U_slice))\n",
    "    return numerator/denominator"
   ]
  },
  {
   "cell_type": "code",
   "execution_count": 225,
   "id": "quantitative-happiness",
   "metadata": {},
   "outputs": [],
   "source": [
    "M = np.array(\n",
    "    [[5, 2, 4, 4, 3],\n",
    "     [3, 1, 2, 4, 1],\n",
    "     [2, 0, 3, 1, 4],\n",
    "     [2, 5, 4, 3, 5],\n",
    "     [4, 4, 5, 4, 0]])\n",
    "\n",
    "U = np.ones((5, 2))\n",
    "V = np.ones((2, 5))"
   ]
  },
  {
   "cell_type": "code",
   "execution_count": 226,
   "id": "fourth-depression",
   "metadata": {},
   "outputs": [
    {
     "data": {
      "text/plain": [
       "array([[2.6 , 1.  ],\n",
       "       [1.2 , 1.  ],\n",
       "       [1.5 , 1.  ],\n",
       "       [2.8 , 1.  ],\n",
       "       [3.25, 1.  ]])"
      ]
     },
     "execution_count": 226,
     "metadata": {},
     "output_type": "execute_result"
    }
   ],
   "source": [
    "decompose_U(M, U, V)"
   ]
  },
  {
   "cell_type": "code",
   "execution_count": 227,
   "id": "future-decrease",
   "metadata": {},
   "outputs": [
    {
     "data": {
      "text/plain": [
       "array([[0.93059527, 0.88525515, 1.15761199, 0.92712936, 1.14270093],\n",
       "       [1.08754874, 0.8200592 , 0.97222078, 1.09541634, 0.93603062]])"
      ]
     },
     "execution_count": 227,
     "metadata": {},
     "output_type": "execute_result"
    }
   ],
   "source": [
    "decompose_V(M, U, V)"
   ]
  },
  {
   "cell_type": "code",
   "execution_count": null,
   "id": "surgical-arctic",
   "metadata": {},
   "outputs": [],
   "source": []
  }
 ],
 "metadata": {
  "kernelspec": {
   "display_name": "venv92",
   "language": "python",
   "name": "venv92"
  },
  "language_info": {
   "codemirror_mode": {
    "name": "ipython",
    "version": 3
   },
   "file_extension": ".py",
   "mimetype": "text/x-python",
   "name": "python",
   "nbconvert_exporter": "python",
   "pygments_lexer": "ipython3",
   "version": "3.9.2"
  }
 },
 "nbformat": 4,
 "nbformat_minor": 5
}
