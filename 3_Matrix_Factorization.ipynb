{
 "cells": [
  {
   "cell_type": "code",
   "execution_count": 1,
   "id": "super-peeing",
   "metadata": {},
   "outputs": [],
   "source": [
    "import pandas as pd\n",
    "import numpy as np\n",
    "import numpy.ma as ma\n",
    "from datetime import datetime\n",
    "from sklearn.model_selection import KFold\n",
    "from sklearn.metrics import mean_squared_error, r2_score"
   ]
  },
  {
   "cell_type": "code",
   "execution_count": 2,
   "id": "laden-hundred",
   "metadata": {},
   "outputs": [],
   "source": [
    "# Reading the data\n",
    "user_col_names = [\"UserID\", \"Gender\", \"Age\", \"Occupation\", \"Zipcode\"]\n",
    "udf = pd.read_csv(\"ml-1m/users.dat\", sep=\"::\", header=None, names=user_col_names, engine=\"python\")\n",
    "\n",
    "movies_col_names = [\"MovieID\", \"Title\", \"Genres\"]\n",
    "mdf = pd.read_csv(\"ml-1m/movies.dat\", sep=\"::\", header=None, names=movies_col_names, engine=\"python\")\n",
    "\n",
    "ratings_col_names = [\"UserID\", \"MovieID\", \"Rating\", \"Timestamp\"]\n",
    "rdf = pd.read_csv(\"ml-1m/ratings.dat\", sep=\"::\", header=None, names=ratings_col_names, engine=\"python\")"
   ]
  },
  {
   "cell_type": "code",
   "execution_count": 3,
   "id": "educational-congress",
   "metadata": {},
   "outputs": [
    {
     "name": "stdout",
     "output_type": "stream",
     "text": [
      "UserID: min = 1, max = 6040\n",
      "MovieID: min = 1, max = 3952\n"
     ]
    }
   ],
   "source": [
    "print(f\"UserID: min = {udf.UserID.min()}, max = {udf.UserID.max()}\")\n",
    "print(f\"MovieID: min = {mdf.MovieID.min()}, max = {mdf.MovieID.max()}\")"
   ]
  },
  {
   "cell_type": "code",
   "execution_count": 4,
   "id": "reduced-segment",
   "metadata": {},
   "outputs": [],
   "source": [
    "# Dividing the data into 5 folds\n",
    "RandomState = 42\n",
    "\n",
    "kf = KFold(n_splits=5, shuffle=True, random_state=RandomState)\n",
    "Folds = []\n",
    "for train_index, test_index in kf.split(rdf):\n",
    "    Folds.append((rdf.iloc[train_index, :], rdf.iloc[test_index, :]))"
   ]
  },
  {
   "cell_type": "code",
   "execution_count": 5,
   "id": "exciting-reply",
   "metadata": {},
   "outputs": [],
   "source": [
    "def update_M(m, df):\n",
    "    m[df[\"UserID\"]-1, df[\"MovieID\"]-1] = df[\"Rating\"]\n",
    "    return m\n",
    "\n",
    "# RMSE calculation\n",
    "def calc_rmse(M, U, V, root=True):\n",
    "    masked = ma.masked_array(M, mask=M==0)\n",
    "    P = np.dot(U, V)     \n",
    "    s = np.sum((masked-P)**2)\n",
    "    if not root:\n",
    "        return s\n",
    "    return np.sqrt(s/masked.count())"
   ]
  },
  {
   "cell_type": "code",
   "execution_count": 37,
   "id": "collaborative-intention",
   "metadata": {},
   "outputs": [
    {
     "name": "stdout",
     "output_type": "stream",
     "text": [
      "Utility Matrix is ready: 0:00:00.097\n",
      "Training time: 2:01:31.459952\n",
      "Root mean squared error: 0.89\n",
      "Coefficient of determination: 0.36\n",
      "--------------------------------------------\n",
      "Utility Matrix is ready: 0:00:00.149\n",
      "Training time: 2:19:40.795504\n",
      "Root mean squared error: 0.89\n",
      "Coefficient of determination: 0.36\n",
      "--------------------------------------------\n",
      "Utility Matrix is ready: 0:00:00.110\n",
      "Training time: 1:54:19.398843\n",
      "Root mean squared error: 0.89\n",
      "Coefficient of determination: 0.36\n",
      "--------------------------------------------\n",
      "Utility Matrix is ready: 0:00:00.102\n",
      "Training time: 1:54:38.892146\n",
      "Root mean squared error: 0.89\n",
      "Coefficient of determination: 0.36\n",
      "--------------------------------------------\n",
      "Utility Matrix is ready: 0:00:00.102\n",
      "Training time: 1:48:17.004304\n",
      "Root mean squared error: 0.89\n",
      "Coefficient of determination: 0.36\n",
      "--------------------------------------------\n"
     ]
    }
   ],
   "source": [
    "K = 10 # TODO: Decide this later \n",
    "I = udf.UserID.max()\n",
    "J = mdf.MovieID.max()\n",
    "lr = 0.0045 # learning rate\n",
    "rf = 0.01 # regularization factor\n",
    "max_iter = 500\n",
    "results = []\n",
    "\n",
    "for _, (train, test) in enumerate(Folds):\n",
    "    \n",
    "    t0 = datetime.now()\n",
    "    # Step 1 : Create Utility Matrix (M)\n",
    "    M = np.zeros((I, J))\n",
    "    # Step 2: Fill Utility Matrix with Ratings from train set \n",
    "    M = update_M(M, train)\n",
    "    t1 = datetime.now()\n",
    "    print(f\"Utility Matrix is ready: {str(t1-t0)[:-3]}\")\n",
    "    \n",
    "    # Step 4: Initialize U,V matrices with normal distribution because we normalized M\n",
    "    U = np.random.normal(size=(I, K))\n",
    "    V = np.random.normal(size=(K, J))\n",
    "    \n",
    "    i_list, j_list = np.nonzero(M)\n",
    "    \n",
    "    rmse_prev = 99999\n",
    "    rmse_cycle = 0\n",
    "    \n",
    "    t2 = datetime.now()\n",
    "\n",
    "    rmse_history = []\n",
    "    \n",
    "    iter_num = 0\n",
    "    while (rmse_cycle < 2) and (iter_num < max_iter):\n",
    "        for i, j in zip(i_list, j_list):\n",
    "            e_ij = M[i,j] - np.dot(U[i,:], V[:,j])\n",
    "            U[i, :] = U[i, :] + lr*(e_ij*V[:,j] - rf*U[i, :])\n",
    "            V[:, j] = V[:, j] + lr*(e_ij*U[i, :] - rf*V[:,j])\n",
    "            \n",
    "        rmse = calc_rmse(M, U, V)\n",
    "        rmse_history.append(rmse)\n",
    "        \n",
    "        if rmse < rmse_prev:\n",
    "            rmse_cycle = 0\n",
    "            rmse_prev = rmse\n",
    "        else:\n",
    "            rmse_cycle += 1\n",
    "            \n",
    "        iter_num += 1\n",
    "        \n",
    "    t3 = datetime.now()\n",
    "    print(f\"Training time: {t3-t2}\")\n",
    "    \n",
    "    P = np.dot(U, V)\n",
    "    users = test[\"UserID\"] - 1\n",
    "    movies = test[\"MovieID\"] - 1\n",
    "    y_pred = P[users, movies]\n",
    "    y_test = test[\"Rating\"]\n",
    "    \n",
    "    test_rmse = mean_squared_error(y_test, y_pred, squared=False)\n",
    "    \n",
    "    # The mean squared error\n",
    "    print('Root mean squared error: %.2f' % test_rmse)\n",
    "    \n",
    "    r2 = r2_score(y_test, y_pred)\n",
    "    # The coefficient of determination: 1 is perfect prediction\n",
    "    print('Coefficient of determination: %.2f'% r2_score(y_test, y_pred))\n",
    "    \n",
    "    print(\"--------------------------------------------\")\n",
    "    \n",
    "    res = {\n",
    "        \"fold\": _,\n",
    "        \"K\": K,\n",
    "        \"lr\": lr,\n",
    "        \"rf\": rf,\n",
    "        \"max_iter\": max_iter,\n",
    "        \"Training time\": str(t3-t2)[:-3],\n",
    "        \"U\": U,\n",
    "        \"V\": V,\n",
    "        \"rmse_history\": rmse_history,\n",
    "        \"test_rmse\": test_rmse,\n",
    "        \"r2_score\":r2\n",
    "    }\n",
    "    \n",
    "    results.append(res)"
   ]
  },
  {
   "cell_type": "code",
   "execution_count": 38,
   "id": "periodic-groove",
   "metadata": {},
   "outputs": [
    {
     "data": {
      "text/plain": [
       "0.893120519367731"
      ]
     },
     "execution_count": 38,
     "metadata": {},
     "output_type": "execute_result"
    }
   ],
   "source": [
    "results[0][\"test_rmse\"]"
   ]
  },
  {
   "cell_type": "code",
   "execution_count": 39,
   "id": "found-fabric",
   "metadata": {},
   "outputs": [],
   "source": [
    "import pickle\n",
    "\n",
    "with open(\"./mf_results_3.pkl\", \"wb\") as write_file:\n",
    "    pickle.dump(results, write_file)"
   ]
  },
  {
   "cell_type": "code",
   "execution_count": null,
   "id": "naked-committee",
   "metadata": {},
   "outputs": [],
   "source": []
  }
 ],
 "metadata": {
  "kernelspec": {
   "display_name": "venv92",
   "language": "python",
   "name": "venv92"
  },
  "language_info": {
   "codemirror_mode": {
    "name": "ipython",
    "version": 3
   },
   "file_extension": ".py",
   "mimetype": "text/x-python",
   "name": "python",
   "nbconvert_exporter": "python",
   "pygments_lexer": "ipython3",
   "version": "3.9.2"
  }
 },
 "nbformat": 4,
 "nbformat_minor": 5
}
